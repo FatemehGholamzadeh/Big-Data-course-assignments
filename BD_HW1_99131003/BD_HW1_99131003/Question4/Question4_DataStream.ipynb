{
  "nbformat": 4,
  "nbformat_minor": 0,
  "metadata": {
    "colab": {
      "name": "Question4_DataStream.ipynb",
      "provenance": [],
      "collapsed_sections": []
    },
    "kernelspec": {
      "name": "python3",
      "display_name": "Python 3"
    },
    "language_info": {
      "name": "python"
    }
  },
  "cells": [
    {
      "cell_type": "code",
      "metadata": {
        "id": "d0MtXtkIk5mS"
      },
      "source": [
        "import numpy as np\n",
        "import math\n",
        "import matplotlib.pylab as plt\n",
        "from matplotlib import style\n",
        "# style.use('ggplot')"
      ],
      "execution_count": 1,
      "outputs": []
    },
    {
      "cell_type": "code",
      "metadata": {
        "colab": {
          "base_uri": "https://localhost:8080/"
        },
        "id": "enMWLxsAvfZ8",
        "outputId": "cd568243-5c99-41e6-949e-3a3ffda13dca"
      },
      "source": [
        "!gdown --id 1o7B8XJ33OjCo8paZytvvVsxncm9wvVke"
      ],
      "execution_count": 2,
      "outputs": [
        {
          "output_type": "stream",
          "text": [
            "Downloading...\n",
            "From: https://drive.google.com/uc?id=1o7B8XJ33OjCo8paZytvvVsxncm9wvVke\n",
            "To: /content/BigData_Homework1_Data.zip\n",
            "377MB [00:02, 170MB/s]\n"
          ],
          "name": "stdout"
        }
      ]
    },
    {
      "cell_type": "code",
      "metadata": {
        "id": "f6e3W5kZvgyh"
      },
      "source": [
        ""
      ],
      "execution_count": null,
      "outputs": []
    },
    {
      "cell_type": "code",
      "metadata": {
        "colab": {
          "base_uri": "https://localhost:8080/"
        },
        "id": "3AdGaP4Yvh8q",
        "outputId": "da65382b-2138-40e9-d5f3-fb350d328569"
      },
      "source": [
        "!unzip BigData_Homework1_Data.zip"
      ],
      "execution_count": 3,
      "outputs": [
        {
          "output_type": "stream",
          "text": [
            "Archive:  BigData_Homework1_Data.zip\n",
            "   creating: Data/\n",
            "   creating: Data/question 2_Association rules' application/\n",
            "  inflating: Data/question 2_Association rules' application/browsing.txt  \n",
            "   creating: Data/question 3_LSH/\n",
            "   creating: Data/question 3_LSH/data/\n",
            "  inflating: Data/question 3_LSH/data/patches.csv  \n",
            "  inflating: Data/question 3_LSH/lsh.py  \n",
            "   creating: Data/question 4_Data streams/\n",
            "  inflating: Data/question 4_Data streams/counts.txt  \n",
            "  inflating: Data/question 4_Data streams/counts_tiny.txt  \n",
            "  inflating: Data/question 4_Data streams/hash_params.txt  \n",
            "  inflating: Data/question 4_Data streams/words_stream.txt  \n",
            "  inflating: Data/question 4_Data streams/words_stream_tiny.txt  \n"
          ],
          "name": "stdout"
        }
      ]
    },
    {
      "cell_type": "code",
      "metadata": {
        "id": "cdqihva-vlBK"
      },
      "source": [
        "#pathes\n",
        "dataset_path ='/content/Data/question 4_Data streams/words_stream_tiny.txt'\n",
        "counts_path = '/content/Data/question 4_Data streams/counts_tiny.txt'\n",
        "hash_path = '/content/Data/question 4_Data streams/hash_params.txt'\n"
      ],
      "execution_count": 14,
      "outputs": []
    },
    {
      "cell_type": "code",
      "metadata": {
        "id": "IKqS87bLvppN"
      },
      "source": [
        "#parameters\n",
        "delta = math.exp(-5)\n",
        "epsilon = math.exp(1) * (10**-4)\n",
        "p = 123457\n",
        "\n",
        "#loading hash_parameters\n",
        "hash_parameters = np.loadtxt(hash_path, delimiter = '\\t', dtype = 'int')\n"
      ],
      "execution_count": 15,
      "outputs": []
    },
    {
      "cell_type": "code",
      "metadata": {
        "id": "paKgegYgv7OM"
      },
      "source": [
        "#hash function\n",
        "def hash(a, b, p, buckets, x):\n",
        "    y = x % p\n",
        "    hash_val = (a*y+b) % p\n",
        "    return hash_val % buckets"
      ],
      "execution_count": 16,
      "outputs": []
    },
    {
      "cell_type": "code",
      "metadata": {
        "id": "-N6u0JEDv-EJ"
      },
      "source": [
        "# plotting log plot pf error\n",
        "def log_plot(D,x_list, title, x_label, y_label):\n",
        "    D = sorted(D.items())\n",
        "    x, y = zip(*D)\n",
        "    plt.figure(figsize=(8, 6))\n",
        "    plt.loglog(x_list, y,'o', color='darkorange')\n",
        "    plt.suptitle(title, fontsize=20)\n",
        "    plt.xlabel(x_label, fontsize=18)\n",
        "    plt.ylabel(y_label, fontsize=18)\n",
        "    plt.show()"
      ],
      "execution_count": 24,
      "outputs": []
    },
    {
      "cell_type": "code",
      "metadata": {
        "id": "E4ECt1stwB_v"
      },
      "source": [
        "def estimate(dataset_path, counts_path, delta, epsilon, p):\n",
        "    upper_j = math.ceil(math.log(1 / delta))  # upper limit of j\n",
        "    upper_h = math.ceil((math.exp(1)) / epsilon)  # upper limit of hashed value\n",
        "\n",
        "    # Initialization\n",
        "    C = np.zeros((upper_j, upper_h))\n",
        "    F_approx = {}\n",
        "    Frequencies = {}\n",
        "    Errors = {}\n",
        "    x_list = []\n",
        "    len_stream = 0\n",
        "\n",
        "    # Building C matrix\n",
        "    with open(dataset_path) as file:\n",
        "        for line in file:\n",
        "            len_stream += 1\n",
        "            word_id = int(line)\n",
        "            F_approx[word_id] = 0\n",
        "            for j in range(0, upper_j):\n",
        "                a = hash_parameters[j, 0]\n",
        "                b = hash_parameters[j, 1]\n",
        "                word_hash = hash(a, b, p, upper_h, word_id)\n",
        "                C[j][word_hash] += 1\n",
        "    print(C)\n",
        "    for word_id in F_approx:\n",
        "        c_list = []\n",
        "        for j in range(0, upper_j):\n",
        "            a = hash_parameters[j, 0]\n",
        "            b = hash_parameters[j, 1]\n",
        "            word_hash = hash(a, b, p, upper_h, word_id)\n",
        "            c_list.append(C[j][word_hash])\n",
        "        F_approx[word_id] = min(c_list)\n",
        "\n",
        "\n",
        "    with open(counts_path) as file:\n",
        "        for line in file:\n",
        "            line = line.split()\n",
        "            word_id = int(line[0])\n",
        "            word_count = int(line[1])\n",
        "            Frequencies[word_id] = word_count\n",
        "\n",
        "    for word_id in F_approx:\n",
        "        Errors[word_id] = (F_approx[word_id] - Frequencies[word_id]) / Frequencies[word_id]\n",
        "\n",
        "    for i in Frequencies:\n",
        "        x_list.append(Frequencies[i] / float(len_stream))\n",
        "    print(x_list)\n",
        "\n",
        "    return x_list,Errors, Frequencies, F_approx"
      ],
      "execution_count": 18,
      "outputs": []
    },
    {
      "cell_type": "code",
      "metadata": {
        "colab": {
          "base_uri": "https://localhost:8080/"
        },
        "id": "mY3xHT0ewDcS",
        "outputId": "b4d87fdb-e9d4-45b6-af36-b8d8f4ad7c26"
      },
      "source": [
        "x_list,E, F, F_approx = estimate(dataset_path, counts_path, delta, epsilon, p)\n"
      ],
      "execution_count": 19,
      "outputs": [
        {
          "output_type": "stream",
          "text": [
            "[[  48.   56.   47. ... 2288.   56.  118.]\n",
            " [  51.   32. 2283. ...  264.  224.  219.]\n",
            " [  63.  187.  101. ...   57.  486.   23.]\n",
            " [ 337.   33.  169. ...   23.  291.  120.]\n",
            " [ 426.   75.   52. ... 3094.  424.   51.]]\n"
          ],
          "name": "stdout"
        },
        {
          "output_type": "stream",
          "text": [
            "IOPub data rate exceeded.\n",
            "The notebook server will temporarily stop sending output\n",
            "to the client in order to avoid crashing it.\n",
            "To change this limit, set the config variable\n",
            "`--NotebookApp.iopub_data_rate_limit`.\n",
            "\n",
            "Current values:\n",
            "NotebookApp.iopub_data_rate_limit=1000000.0 (bytes/sec)\n",
            "NotebookApp.rate_limit_window=3.0 (secs)\n",
            "\n"
          ],
          "name": "stderr"
        }
      ]
    },
    {
      "cell_type": "code",
      "metadata": {
        "colab": {
          "base_uri": "https://localhost:8080/",
          "height": 443
        },
        "id": "7kjGjLbdvrNG",
        "outputId": "878e75b3-64ce-4b62-dcf3-f2ee801f1d08"
      },
      "source": [
        "log_plot(E,x_list, \"Error Plot\", \"F[i]/t\", \"relative Error\")"
      ],
      "execution_count": 25,
      "outputs": [
        {
          "output_type": "display_data",
          "data": {
            "image/png": "[encoded data removed]",
            "text/plain": [
              "<Figure size 576x432 with 1 Axes>"
            ]
          },
          "metadata": {
            "tags": [],
            "needs_background": "light"
          }
        }
      ]
    }
  ]
}