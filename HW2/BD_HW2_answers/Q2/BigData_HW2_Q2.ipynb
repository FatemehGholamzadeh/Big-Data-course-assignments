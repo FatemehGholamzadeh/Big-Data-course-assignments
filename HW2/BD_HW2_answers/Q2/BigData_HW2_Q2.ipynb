{
  "nbformat": 4,
  "nbformat_minor": 0,
  "metadata": {
    "colab": {
      "name": "BigData_HW2_Q2.ipynb",
      "provenance": [],
      "collapsed_sections": []
    },
    "kernelspec": {
      "name": "python3",
      "display_name": "Python 3"
    },
    "language_info": {
      "name": "python"
    }
  },
  "cells": [
    {
      "cell_type": "code",
      "metadata": {
        "id": "THUajWWVhyks"
      },
      "source": [
        "import scipy.linalg as sl\n",
        "import numpy as np\n",
        "import numpy.linalg as linalg"
      ],
      "execution_count": 15,
      "outputs": []
    },
    {
      "cell_type": "code",
      "metadata": {
        "colab": {
          "base_uri": "https://localhost:8080/"
        },
        "id": "r-Q_KFWWh3JY",
        "outputId": "b1f2deff-78c4-4c23-c11c-490e02c9805a"
      },
      "source": [
        "M = [[1, 2],\n",
        "     [2, 1],\n",
        "     [3, 4],\n",
        "     [4, 3]]\n",
        "M = np.array(M)\n",
        "U, s, Vh = sl.svd(M, full_matrices=False)\n",
        "print('U')\n",
        "print(U)\n",
        "print('Sigma')\n",
        "print(s)\n",
        "print('Vh')\n",
        "print(Vh)"
      ],
      "execution_count": 16,
      "outputs": [
        {
          "output_type": "stream",
          "text": [
            "U\n",
            "[[-0.27854301  0.5       ]\n",
            " [-0.27854301 -0.5       ]\n",
            " [-0.64993368  0.5       ]\n",
            " [-0.64993368 -0.5       ]]\n",
            "Sigma\n",
            "[7.61577311 1.41421356]\n",
            "Vh\n",
            "[[-0.70710678 -0.70710678]\n",
            " [-0.70710678  0.70710678]]\n"
          ],
          "name": "stdout"
        }
      ]
    },
    {
      "cell_type": "code",
      "metadata": {
        "colab": {
          "base_uri": "https://localhost:8080/"
        },
        "id": "kVNXXD76pCEz",
        "outputId": "d77e14b0-19cd-476a-8e99-5fe24279ffba"
      },
      "source": [
        "eigenValues, eigenVectors = linalg.eig(M.T @ M)\n",
        "idx = eigenValues.argsort()[::-1]   \n",
        "eigenValues = eigenValues[idx]\n",
        "eigenVectors = eigenVectors[:,idx]\n",
        "\n",
        "print('eigenValues')\n",
        "print(eigenValues)\n",
        "print('eigenVectors')\n",
        "print(eigenVectors)"
      ],
      "execution_count": 17,
      "outputs": [
        {
          "output_type": "stream",
          "text": [
            "eigenValues\n",
            "[58.  2.]\n",
            "eigenVectors\n",
            "[[ 0.70710678 -0.70710678]\n",
            " [ 0.70710678  0.70710678]]\n"
          ],
          "name": "stdout"
        }
      ]
    }
  ]
}