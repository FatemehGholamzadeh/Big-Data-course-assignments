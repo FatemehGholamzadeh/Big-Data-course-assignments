{
  "nbformat": 4,
  "nbformat_minor": 0,
  "metadata": {
    "colab": {
      "name": "BigData_HW2_Question3.ipynb",
      "provenance": [],
      "collapsed_sections": []
    },
    "kernelspec": {
      "name": "python3",
      "display_name": "Python 3"
    },
    "language_info": {
      "name": "python"
    }
  },
  "cells": [
    {
      "cell_type": "code",
      "metadata": {
        "colab": {
          "base_uri": "https://localhost:8080/"
        },
        "id": "18aeBXX8pHjc",
        "outputId": "7126f28b-33bd-4054-afa7-9d0bc45824d7"
      },
      "source": [
        "!unzip BigData_HW2_Data.zip"
      ],
      "execution_count": 5,
      "outputs": [
        {
          "output_type": "stream",
          "text": [
            "Archive:  BigData_HW2_Data.zip\n",
            "replace BigData_HW2_Data/question 1_kmeans with spark/c1.txt? [y]es, [n]o, [A]ll, [N]one, [r]ename: "
          ],
          "name": "stdout"
        }
      ]
    },
    {
      "cell_type": "code",
      "metadata": {
        "id": "mEs3OAoZofqH"
      },
      "source": [
        "import numpy as np\n",
        "\n",
        "dataPath = '/content/BigData_HW2_Data/question 3_Recommendation systems/user-shows.txt'\n",
        "showsPath =  '/content/BigData_HW2_Data/question 3_Recommendation systems/shows.txt'\n",
        "\n",
        "shows = []\n",
        "with open(showsPath) as f:\n",
        "    for line in f:\n",
        "        shows.append(line.strip())\n",
        "\n",
        "m = 9985\n",
        "n = 563\n",
        "\n",
        "R = np.zeros((m, n), dtype=np.int16)\n",
        "with open(dataPath) as f:\n",
        "    for i, line in enumerate(f):\n",
        "        R[i, :] = list(map(int, line.split()))\n",
        "\n",
        "p = np.sum(R, axis=1)\n",
        "q = np.sum(R, axis=0)\n",
        "\n",
        "p_ = 1 / np.sqrt(p)\n",
        "q_ = 1 / np.sqrt(q)\n",
        "\n",
        "RTp_ = R.T * p_[None, :]\n",
        "Rq_ = R * q_[None, :]\n",
        "\n",
        "rU = RTp_.T @ RTp_ @ R\n",
        "rI = R @ Rq_.T @ Rq_\n",
        "\n",
        "alexi = 499\n",
        "rU_focus = rU[alexi, :100]\n",
        "rI_focus = rI[alexi, :100]\n",
        "\n",
        "rU_idx = np.argsort(rU_focus)[::-1][:5]\n",
        "rI_idx = np.argsort(rI_focus)[::-1][:5]\n",
        "\n",
        "rU_results = list(zip(rU_focus[rU_idx], rU_idx, [shows[i] for i in rU_idx]))\n",
        "rI_results = list(zip(rI_focus[rI_idx], rI_idx, [shows[i] for i in rI_idx]))\n",
        "\n",
        "print(p)\n",
        "print(q)\n",
        "print(rU_results)\n",
        "print(rI_results)"
      ],
      "execution_count": null,
      "outputs": []
    }
  ]
}